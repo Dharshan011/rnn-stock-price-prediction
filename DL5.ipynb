{
  "cells": [
    {
      "cell_type": "markdown",
      "metadata": {
        "id": "Qd0aYUPsJ2NK"
      },
      "source": [
        "\n",
        "\n",
        "```\n",
        "# This is formatted as code\n",
        "```\n",
        "\n",
        "### Name:V.Dharshan\n",
        "### Register Number:212222230031"
      ]
    },
    {
      "cell_type": "code",
      "execution_count": 3,
      "metadata": {
        "id": "rWulUnXvE0XQ"
      },
      "outputs": [],
      "source": [
        "import numpy as np\n",
        "import matplotlib.pyplot as plt\n",
        "import pandas as pd\n",
        "from sklearn.preprocessing import MinMaxScaler\n",
        "from keras import layers\n",
        "from keras.models import Sequential"
      ]
    },
    {
      "cell_type": "code",
      "execution_count": 4,
      "metadata": {
        "id": "G9yM-i2fGSeD"
      },
      "outputs": [],
      "source": [
        "dataset_train = pd.read_csv('/content/trainset.csv')\n"
      ]
    },
    {
      "cell_type": "code",
      "execution_count": null,
      "metadata": {
        "id": "ZnNFxG1yHJXj"
      },
      "outputs": [],
      "source": [
        "dataset_train.columns"
      ]
    },
    {
      "cell_type": "code",
      "execution_count": 6,
      "metadata": {
        "id": "ioHdtmFxHSQ5",
        "colab": {
          "base_uri": "https://localhost:8080/",
          "height": 206
        },
        "outputId": "b0b773ea-fd78-4738-bf6b-039f5e163544"
      },
      "outputs": [
        {
          "output_type": "execute_result",
          "data": {
            "text/plain": [
              "         Date        Open        High         Low       Close   Adj Close  \\\n",
              "0  2013-01-02  357.385559  361.151062  355.959839  359.288177  359.288177   \n",
              "1  2013-01-03  360.122742  363.600128  358.031342  359.496826  359.496826   \n",
              "2  2013-01-04  362.313507  368.339294  361.488861  366.600616  366.600616   \n",
              "3  2013-01-07  365.348755  367.301056  362.929504  365.001007  365.001007   \n",
              "4  2013-01-08  365.393463  365.771027  359.874359  364.280701  364.280701   \n",
              "\n",
              "    Volume  \n",
              "0  5115500  \n",
              "1  4666500  \n",
              "2  5562800  \n",
              "3  3332900  \n",
              "4  3373900  "
            ],
            "text/html": [
              "\n",
              "  <div id=\"df-bc2a12f3-973a-46d9-8917-03fda98fbb8d\" class=\"colab-df-container\">\n",
              "    <div>\n",
              "<style scoped>\n",
              "    .dataframe tbody tr th:only-of-type {\n",
              "        vertical-align: middle;\n",
              "    }\n",
              "\n",
              "    .dataframe tbody tr th {\n",
              "        vertical-align: top;\n",
              "    }\n",
              "\n",
              "    .dataframe thead th {\n",
              "        text-align: right;\n",
              "    }\n",
              "</style>\n",
              "<table border=\"1\" class=\"dataframe\">\n",
              "  <thead>\n",
              "    <tr style=\"text-align: right;\">\n",
              "      <th></th>\n",
              "      <th>Date</th>\n",
              "      <th>Open</th>\n",
              "      <th>High</th>\n",
              "      <th>Low</th>\n",
              "      <th>Close</th>\n",
              "      <th>Adj Close</th>\n",
              "      <th>Volume</th>\n",
              "    </tr>\n",
              "  </thead>\n",
              "  <tbody>\n",
              "    <tr>\n",
              "      <th>0</th>\n",
              "      <td>2013-01-02</td>\n",
              "      <td>357.385559</td>\n",
              "      <td>361.151062</td>\n",
              "      <td>355.959839</td>\n",
              "      <td>359.288177</td>\n",
              "      <td>359.288177</td>\n",
              "      <td>5115500</td>\n",
              "    </tr>\n",
              "    <tr>\n",
              "      <th>1</th>\n",
              "      <td>2013-01-03</td>\n",
              "      <td>360.122742</td>\n",
              "      <td>363.600128</td>\n",
              "      <td>358.031342</td>\n",
              "      <td>359.496826</td>\n",
              "      <td>359.496826</td>\n",
              "      <td>4666500</td>\n",
              "    </tr>\n",
              "    <tr>\n",
              "      <th>2</th>\n",
              "      <td>2013-01-04</td>\n",
              "      <td>362.313507</td>\n",
              "      <td>368.339294</td>\n",
              "      <td>361.488861</td>\n",
              "      <td>366.600616</td>\n",
              "      <td>366.600616</td>\n",
              "      <td>5562800</td>\n",
              "    </tr>\n",
              "    <tr>\n",
              "      <th>3</th>\n",
              "      <td>2013-01-07</td>\n",
              "      <td>365.348755</td>\n",
              "      <td>367.301056</td>\n",
              "      <td>362.929504</td>\n",
              "      <td>365.001007</td>\n",
              "      <td>365.001007</td>\n",
              "      <td>3332900</td>\n",
              "    </tr>\n",
              "    <tr>\n",
              "      <th>4</th>\n",
              "      <td>2013-01-08</td>\n",
              "      <td>365.393463</td>\n",
              "      <td>365.771027</td>\n",
              "      <td>359.874359</td>\n",
              "      <td>364.280701</td>\n",
              "      <td>364.280701</td>\n",
              "      <td>3373900</td>\n",
              "    </tr>\n",
              "  </tbody>\n",
              "</table>\n",
              "</div>\n",
              "    <div class=\"colab-df-buttons\">\n",
              "\n",
              "  <div class=\"colab-df-container\">\n",
              "    <button class=\"colab-df-convert\" onclick=\"convertToInteractive('df-bc2a12f3-973a-46d9-8917-03fda98fbb8d')\"\n",
              "            title=\"Convert this dataframe to an interactive table.\"\n",
              "            style=\"display:none;\">\n",
              "\n",
              "  <svg xmlns=\"http://www.w3.org/2000/svg\" height=\"24px\" viewBox=\"0 -960 960 960\">\n",
              "    <path d=\"M120-120v-720h720v720H120Zm60-500h600v-160H180v160Zm220 220h160v-160H400v160Zm0 220h160v-160H400v160ZM180-400h160v-160H180v160Zm440 0h160v-160H620v160ZM180-180h160v-160H180v160Zm440 0h160v-160H620v160Z\"/>\n",
              "  </svg>\n",
              "    </button>\n",
              "\n",
              "  <style>\n",
              "    .colab-df-container {\n",
              "      display:flex;\n",
              "      gap: 12px;\n",
              "    }\n",
              "\n",
              "    .colab-df-convert {\n",
              "      background-color: #E8F0FE;\n",
              "      border: none;\n",
              "      border-radius: 50%;\n",
              "      cursor: pointer;\n",
              "      display: none;\n",
              "      fill: #1967D2;\n",
              "      height: 32px;\n",
              "      padding: 0 0 0 0;\n",
              "      width: 32px;\n",
              "    }\n",
              "\n",
              "    .colab-df-convert:hover {\n",
              "      background-color: #E2EBFA;\n",
              "      box-shadow: 0px 1px 2px rgba(60, 64, 67, 0.3), 0px 1px 3px 1px rgba(60, 64, 67, 0.15);\n",
              "      fill: #174EA6;\n",
              "    }\n",
              "\n",
              "    .colab-df-buttons div {\n",
              "      margin-bottom: 4px;\n",
              "    }\n",
              "\n",
              "    [theme=dark] .colab-df-convert {\n",
              "      background-color: #3B4455;\n",
              "      fill: #D2E3FC;\n",
              "    }\n",
              "\n",
              "    [theme=dark] .colab-df-convert:hover {\n",
              "      background-color: #434B5C;\n",
              "      box-shadow: 0px 1px 3px 1px rgba(0, 0, 0, 0.15);\n",
              "      filter: drop-shadow(0px 1px 2px rgba(0, 0, 0, 0.3));\n",
              "      fill: #FFFFFF;\n",
              "    }\n",
              "  </style>\n",
              "\n",
              "    <script>\n",
              "      const buttonEl =\n",
              "        document.querySelector('#df-bc2a12f3-973a-46d9-8917-03fda98fbb8d button.colab-df-convert');\n",
              "      buttonEl.style.display =\n",
              "        google.colab.kernel.accessAllowed ? 'block' : 'none';\n",
              "\n",
              "      async function convertToInteractive(key) {\n",
              "        const element = document.querySelector('#df-bc2a12f3-973a-46d9-8917-03fda98fbb8d');\n",
              "        const dataTable =\n",
              "          await google.colab.kernel.invokeFunction('convertToInteractive',\n",
              "                                                    [key], {});\n",
              "        if (!dataTable) return;\n",
              "\n",
              "        const docLinkHtml = 'Like what you see? Visit the ' +\n",
              "          '<a target=\"_blank\" href=https://colab.research.google.com/notebooks/data_table.ipynb>data table notebook</a>'\n",
              "          + ' to learn more about interactive tables.';\n",
              "        element.innerHTML = '';\n",
              "        dataTable['output_type'] = 'display_data';\n",
              "        await google.colab.output.renderOutput(dataTable, element);\n",
              "        const docLink = document.createElement('div');\n",
              "        docLink.innerHTML = docLinkHtml;\n",
              "        element.appendChild(docLink);\n",
              "      }\n",
              "    </script>\n",
              "  </div>\n",
              "\n",
              "\n",
              "<div id=\"df-2d47cb91-2422-4285-a866-2ddfa6563a98\">\n",
              "  <button class=\"colab-df-quickchart\" onclick=\"quickchart('df-2d47cb91-2422-4285-a866-2ddfa6563a98')\"\n",
              "            title=\"Suggest charts\"\n",
              "            style=\"display:none;\">\n",
              "\n",
              "<svg xmlns=\"http://www.w3.org/2000/svg\" height=\"24px\"viewBox=\"0 0 24 24\"\n",
              "     width=\"24px\">\n",
              "    <g>\n",
              "        <path d=\"M19 3H5c-1.1 0-2 .9-2 2v14c0 1.1.9 2 2 2h14c1.1 0 2-.9 2-2V5c0-1.1-.9-2-2-2zM9 17H7v-7h2v7zm4 0h-2V7h2v10zm4 0h-2v-4h2v4z\"/>\n",
              "    </g>\n",
              "</svg>\n",
              "  </button>\n",
              "\n",
              "<style>\n",
              "  .colab-df-quickchart {\n",
              "      --bg-color: #E8F0FE;\n",
              "      --fill-color: #1967D2;\n",
              "      --hover-bg-color: #E2EBFA;\n",
              "      --hover-fill-color: #174EA6;\n",
              "      --disabled-fill-color: #AAA;\n",
              "      --disabled-bg-color: #DDD;\n",
              "  }\n",
              "\n",
              "  [theme=dark] .colab-df-quickchart {\n",
              "      --bg-color: #3B4455;\n",
              "      --fill-color: #D2E3FC;\n",
              "      --hover-bg-color: #434B5C;\n",
              "      --hover-fill-color: #FFFFFF;\n",
              "      --disabled-bg-color: #3B4455;\n",
              "      --disabled-fill-color: #666;\n",
              "  }\n",
              "\n",
              "  .colab-df-quickchart {\n",
              "    background-color: var(--bg-color);\n",
              "    border: none;\n",
              "    border-radius: 50%;\n",
              "    cursor: pointer;\n",
              "    display: none;\n",
              "    fill: var(--fill-color);\n",
              "    height: 32px;\n",
              "    padding: 0;\n",
              "    width: 32px;\n",
              "  }\n",
              "\n",
              "  .colab-df-quickchart:hover {\n",
              "    background-color: var(--hover-bg-color);\n",
              "    box-shadow: 0 1px 2px rgba(60, 64, 67, 0.3), 0 1px 3px 1px rgba(60, 64, 67, 0.15);\n",
              "    fill: var(--button-hover-fill-color);\n",
              "  }\n",
              "\n",
              "  .colab-df-quickchart-complete:disabled,\n",
              "  .colab-df-quickchart-complete:disabled:hover {\n",
              "    background-color: var(--disabled-bg-color);\n",
              "    fill: var(--disabled-fill-color);\n",
              "    box-shadow: none;\n",
              "  }\n",
              "\n",
              "  .colab-df-spinner {\n",
              "    border: 2px solid var(--fill-color);\n",
              "    border-color: transparent;\n",
              "    border-bottom-color: var(--fill-color);\n",
              "    animation:\n",
              "      spin 1s steps(1) infinite;\n",
              "  }\n",
              "\n",
              "  @keyframes spin {\n",
              "    0% {\n",
              "      border-color: transparent;\n",
              "      border-bottom-color: var(--fill-color);\n",
              "      border-left-color: var(--fill-color);\n",
              "    }\n",
              "    20% {\n",
              "      border-color: transparent;\n",
              "      border-left-color: var(--fill-color);\n",
              "      border-top-color: var(--fill-color);\n",
              "    }\n",
              "    30% {\n",
              "      border-color: transparent;\n",
              "      border-left-color: var(--fill-color);\n",
              "      border-top-color: var(--fill-color);\n",
              "      border-right-color: var(--fill-color);\n",
              "    }\n",
              "    40% {\n",
              "      border-color: transparent;\n",
              "      border-right-color: var(--fill-color);\n",
              "      border-top-color: var(--fill-color);\n",
              "    }\n",
              "    60% {\n",
              "      border-color: transparent;\n",
              "      border-right-color: var(--fill-color);\n",
              "    }\n",
              "    80% {\n",
              "      border-color: transparent;\n",
              "      border-right-color: var(--fill-color);\n",
              "      border-bottom-color: var(--fill-color);\n",
              "    }\n",
              "    90% {\n",
              "      border-color: transparent;\n",
              "      border-bottom-color: var(--fill-color);\n",
              "    }\n",
              "  }\n",
              "</style>\n",
              "\n",
              "  <script>\n",
              "    async function quickchart(key) {\n",
              "      const quickchartButtonEl =\n",
              "        document.querySelector('#' + key + ' button');\n",
              "      quickchartButtonEl.disabled = true;  // To prevent multiple clicks.\n",
              "      quickchartButtonEl.classList.add('colab-df-spinner');\n",
              "      try {\n",
              "        const charts = await google.colab.kernel.invokeFunction(\n",
              "            'suggestCharts', [key], {});\n",
              "      } catch (error) {\n",
              "        console.error('Error during call to suggestCharts:', error);\n",
              "      }\n",
              "      quickchartButtonEl.classList.remove('colab-df-spinner');\n",
              "      quickchartButtonEl.classList.add('colab-df-quickchart-complete');\n",
              "    }\n",
              "    (() => {\n",
              "      let quickchartButtonEl =\n",
              "        document.querySelector('#df-2d47cb91-2422-4285-a866-2ddfa6563a98 button');\n",
              "      quickchartButtonEl.style.display =\n",
              "        google.colab.kernel.accessAllowed ? 'block' : 'none';\n",
              "    })();\n",
              "  </script>\n",
              "</div>\n",
              "\n",
              "    </div>\n",
              "  </div>\n"
            ],
            "application/vnd.google.colaboratory.intrinsic+json": {
              "type": "dataframe",
              "variable_name": "dataset_train",
              "summary": "{\n  \"name\": \"dataset_train\",\n  \"rows\": 1259,\n  \"fields\": [\n    {\n      \"column\": \"Date\",\n      \"properties\": {\n        \"dtype\": \"object\",\n        \"num_unique_values\": 1259,\n        \"samples\": [\n          \"2013-04-23\",\n          \"2017-01-30\",\n          \"2013-03-06\"\n        ],\n        \"semantic_type\": \"\",\n        \"description\": \"\"\n      }\n    },\n    {\n      \"column\": \"Open\",\n      \"properties\": {\n        \"dtype\": \"number\",\n        \"std\": 175.63057351209417,\n        \"min\": 350.053253,\n        \"max\": 1075.199951,\n        \"num_unique_values\": 1228,\n        \"samples\": [\n          727.580017,\n          524.118103,\n          553.40564\n        ],\n        \"semantic_type\": \"\",\n        \"description\": \"\"\n      }\n    },\n    {\n      \"column\": \"High\",\n      \"properties\": {\n        \"dtype\": \"number\",\n        \"std\": 176.62741611717948,\n        \"min\": 350.391052,\n        \"max\": 1078.48999,\n        \"num_unique_values\": 1239,\n        \"samples\": [\n          580.309143,\n          577.489014,\n          517.056946\n        ],\n        \"semantic_type\": \"\",\n        \"description\": \"\"\n      }\n    },\n    {\n      \"column\": \"Low\",\n      \"properties\": {\n        \"dtype\": \"number\",\n        \"std\": 174.73281352959697,\n        \"min\": 345.512787,\n        \"max\": 1063.550049,\n        \"num_unique_values\": 1240,\n        \"samples\": [\n          576.052551,\n          568.403076,\n          518.469177\n        ],\n        \"semantic_type\": \"\",\n        \"description\": \"\"\n      }\n    },\n    {\n      \"column\": \"Close\",\n      \"properties\": {\n        \"dtype\": \"number\",\n        \"std\": 175.82099273815913,\n        \"min\": 349.164032,\n        \"max\": 1077.140015,\n        \"num_unique_values\": 1245,\n        \"samples\": [\n          749.460022,\n          557.812866,\n          927.330017\n        ],\n        \"semantic_type\": \"\",\n        \"description\": \"\"\n      }\n    },\n    {\n      \"column\": \"Adj Close\",\n      \"properties\": {\n        \"dtype\": \"number\",\n        \"std\": 175.82099273815913,\n        \"min\": 349.164032,\n        \"max\": 1077.140015,\n        \"num_unique_values\": 1245,\n        \"samples\": [\n          749.460022,\n          557.812866,\n          927.330017\n        ],\n        \"semantic_type\": \"\",\n        \"description\": \"\"\n      }\n    },\n    {\n      \"column\": \"Volume\",\n      \"properties\": {\n        \"dtype\": \"number\",\n        \"std\": 1672159,\n        \"min\": 7900,\n        \"max\": 23283100,\n        \"num_unique_values\": 1228,\n        \"samples\": [\n          1837200,\n          2000000,\n          1477800\n        ],\n        \"semantic_type\": \"\",\n        \"description\": \"\"\n      }\n    }\n  ]\n}"
            }
          },
          "metadata": {},
          "execution_count": 6
        }
      ],
      "source": [
        "dataset_train.head()"
      ]
    },
    {
      "cell_type": "code",
      "execution_count": 7,
      "metadata": {
        "id": "od_Jh97fHxsp"
      },
      "outputs": [],
      "source": [
        "train_set = dataset_train.iloc[:,1:2].values"
      ]
    },
    {
      "cell_type": "code",
      "execution_count": 8,
      "metadata": {
        "id": "ipOhkvP0H8Ki",
        "colab": {
          "base_uri": "https://localhost:8080/"
        },
        "outputId": "8f5998e6-49b5-49c4-99de-13e89fa6be82"
      },
      "outputs": [
        {
          "output_type": "execute_result",
          "data": {
            "text/plain": [
              "numpy.ndarray"
            ]
          },
          "metadata": {},
          "execution_count": 8
        }
      ],
      "source": [
        "type(train_set)"
      ]
    },
    {
      "cell_type": "code",
      "execution_count": 9,
      "metadata": {
        "id": "10qpaYabITYB",
        "colab": {
          "base_uri": "https://localhost:8080/"
        },
        "outputId": "688cdae9-8cd8-4127-f5c9-a8c825c494c9"
      },
      "outputs": [
        {
          "output_type": "execute_result",
          "data": {
            "text/plain": [
              "(1259, 1)"
            ]
          },
          "metadata": {},
          "execution_count": 9
        }
      ],
      "source": [
        "train_set.shape"
      ]
    },
    {
      "cell_type": "code",
      "execution_count": 10,
      "metadata": {
        "id": "Wc5QNHisIMcp"
      },
      "outputs": [],
      "source": [
        "sc = MinMaxScaler(feature_range=(0,1))\n",
        "training_set_scaled = sc.fit_transform(train_set)"
      ]
    },
    {
      "cell_type": "code",
      "execution_count": 11,
      "metadata": {
        "id": "VYMccXBzjMzz",
        "colab": {
          "base_uri": "https://localhost:8080/"
        },
        "outputId": "18d7aa09-1230-43d4-d377-ab8bd0a6d0de"
      },
      "outputs": [
        {
          "output_type": "execute_result",
          "data": {
            "text/plain": [
              "(1259, 1)"
            ]
          },
          "metadata": {},
          "execution_count": 11
        }
      ],
      "source": [
        "training_set_scaled.shape"
      ]
    },
    {
      "cell_type": "code",
      "execution_count": 12,
      "metadata": {
        "id": "qO7NJjsCI1qq"
      },
      "outputs": [],
      "source": [
        "X_train_array = []\n",
        "y_train_array = []\n",
        "for i in range(60, 1259):\n",
        "  X_train_array.append(training_set_scaled[i-60:i,0])\n",
        "  y_train_array.append(training_set_scaled[i,0])\n",
        "X_train, y_train = np.array(X_train_array), np.array(y_train_array)\n",
        "X_train1 = X_train.reshape((X_train.shape[0], X_train.shape[1],1))\n"
      ]
    },
    {
      "cell_type": "code",
      "execution_count": 13,
      "metadata": {
        "id": "0rRZyii1IWmq",
        "colab": {
          "base_uri": "https://localhost:8080/"
        },
        "outputId": "69246401-f357-46cf-845b-11cb687171d6"
      },
      "outputs": [
        {
          "output_type": "execute_result",
          "data": {
            "text/plain": [
              "(1199, 60)"
            ]
          },
          "metadata": {},
          "execution_count": 13
        }
      ],
      "source": [
        "X_train.shape"
      ]
    },
    {
      "cell_type": "code",
      "execution_count": 14,
      "metadata": {
        "id": "BknoiyHTN_tb"
      },
      "outputs": [],
      "source": [
        "length = 60\n",
        "n_features = 1"
      ]
    },
    {
      "cell_type": "code",
      "execution_count": 15,
      "metadata": {
        "id": "tb1wq3smJuDF"
      },
      "outputs": [],
      "source": [
        "model = Sequential()\n",
        "model.add(layers.SimpleRNN(10,input_shape=(length,n_features)))\n",
        "model.add(layers.Dense(1))\n",
        "model.compile(optimizer='rmsprop', loss='mse',metrics ='accuracy')"
      ]
    },
    {
      "cell_type": "code",
      "execution_count": 16,
      "metadata": {
        "id": "RmitWR-Qk500",
        "colab": {
          "base_uri": "https://localhost:8080/"
        },
        "outputId": "caf8d1f4-421e-46db-92a8-647f38bda192"
      },
      "outputs": [
        {
          "output_type": "stream",
          "name": "stdout",
          "text": [
            "Name: V.Dharshan     Register Number: 212222230031         \n",
            "Model: \"sequential\"\n",
            "_________________________________________________________________\n",
            " Layer (type)                Output Shape              Param #   \n",
            "=================================================================\n",
            " simple_rnn (SimpleRNN)      (None, 10)                120       \n",
            "                                                                 \n",
            " dense (Dense)               (None, 1)                 11        \n",
            "                                                                 \n",
            "=================================================================\n",
            "Total params: 131 (524.00 Byte)\n",
            "Trainable params: 131 (524.00 Byte)\n",
            "Non-trainable params: 0 (0.00 Byte)\n",
            "_________________________________________________________________\n"
          ]
        }
      ],
      "source": [
        "print(\"Name: V.Dharshan     Register Number: 212222230031         \")\n",
        "model.summary()"
      ]
    },
    {
      "cell_type": "code",
      "execution_count": 17,
      "metadata": {
        "id": "fXZtPWTgO5T7",
        "colab": {
          "base_uri": "https://localhost:8080/"
        },
        "outputId": "f6d8d135-b550-4b85-d92c-871e0069acf5"
      },
      "outputs": [
        {
          "output_type": "stream",
          "name": "stdout",
          "text": [
            "Epoch 1/100\n",
            "38/38 [==============================] - 2s 10ms/step - loss: 0.1715 - accuracy: 8.3403e-04\n",
            "Epoch 2/100\n",
            "38/38 [==============================] - 0s 9ms/step - loss: 0.0050 - accuracy: 8.3403e-04\n",
            "Epoch 3/100\n",
            "38/38 [==============================] - 0s 10ms/step - loss: 0.0015 - accuracy: 8.3403e-04\n",
            "Epoch 4/100\n",
            "38/38 [==============================] - 0s 10ms/step - loss: 0.0010 - accuracy: 8.3403e-04\n",
            "Epoch 5/100\n",
            "38/38 [==============================] - 0s 9ms/step - loss: 8.4165e-04 - accuracy: 8.3403e-04\n",
            "Epoch 6/100\n",
            "38/38 [==============================] - 0s 9ms/step - loss: 7.0513e-04 - accuracy: 8.3403e-04\n",
            "Epoch 7/100\n",
            "38/38 [==============================] - 0s 10ms/step - loss: 6.8407e-04 - accuracy: 8.3403e-04\n",
            "Epoch 8/100\n",
            "38/38 [==============================] - 0s 9ms/step - loss: 5.4638e-04 - accuracy: 8.3403e-04\n",
            "Epoch 9/100\n",
            "38/38 [==============================] - 0s 9ms/step - loss: 4.8948e-04 - accuracy: 8.3403e-04\n",
            "Epoch 10/100\n",
            "38/38 [==============================] - 0s 9ms/step - loss: 4.2747e-04 - accuracy: 8.3403e-04\n",
            "Epoch 11/100\n",
            "38/38 [==============================] - 0s 12ms/step - loss: 3.9598e-04 - accuracy: 8.3403e-04\n",
            "Epoch 12/100\n",
            "38/38 [==============================] - 1s 15ms/step - loss: 3.9701e-04 - accuracy: 8.3403e-04\n",
            "Epoch 13/100\n",
            "38/38 [==============================] - 1s 14ms/step - loss: 3.9810e-04 - accuracy: 8.3403e-04\n",
            "Epoch 14/100\n",
            "38/38 [==============================] - 1s 14ms/step - loss: 3.9742e-04 - accuracy: 8.3403e-04\n",
            "Epoch 15/100\n",
            "38/38 [==============================] - 1s 16ms/step - loss: 3.7741e-04 - accuracy: 8.3403e-04\n",
            "Epoch 16/100\n",
            "38/38 [==============================] - 0s 10ms/step - loss: 3.6087e-04 - accuracy: 8.3403e-04\n",
            "Epoch 17/100\n",
            "38/38 [==============================] - 0s 9ms/step - loss: 3.6283e-04 - accuracy: 8.3403e-04\n",
            "Epoch 18/100\n",
            "38/38 [==============================] - 0s 9ms/step - loss: 3.5176e-04 - accuracy: 8.3403e-04\n",
            "Epoch 19/100\n",
            "38/38 [==============================] - 0s 9ms/step - loss: 3.5707e-04 - accuracy: 8.3403e-04\n",
            "Epoch 20/100\n",
            "38/38 [==============================] - 0s 9ms/step - loss: 3.3933e-04 - accuracy: 8.3403e-04\n",
            "Epoch 21/100\n",
            "38/38 [==============================] - 0s 9ms/step - loss: 3.5070e-04 - accuracy: 8.3403e-04\n",
            "Epoch 22/100\n",
            "38/38 [==============================] - 0s 8ms/step - loss: 3.5495e-04 - accuracy: 8.3403e-04\n",
            "Epoch 23/100\n",
            "38/38 [==============================] - 0s 9ms/step - loss: 3.2149e-04 - accuracy: 8.3403e-04\n",
            "Epoch 24/100\n",
            "38/38 [==============================] - 0s 9ms/step - loss: 3.2360e-04 - accuracy: 8.3403e-04\n",
            "Epoch 25/100\n",
            "38/38 [==============================] - 0s 9ms/step - loss: 3.4053e-04 - accuracy: 8.3403e-04\n",
            "Epoch 26/100\n",
            "38/38 [==============================] - 0s 10ms/step - loss: 3.3663e-04 - accuracy: 8.3403e-04\n",
            "Epoch 27/100\n",
            "38/38 [==============================] - 0s 10ms/step - loss: 3.2269e-04 - accuracy: 8.3403e-04\n",
            "Epoch 28/100\n",
            "38/38 [==============================] - 0s 9ms/step - loss: 3.1339e-04 - accuracy: 8.3403e-04\n",
            "Epoch 29/100\n",
            "38/38 [==============================] - 0s 9ms/step - loss: 3.4305e-04 - accuracy: 8.3403e-04\n",
            "Epoch 30/100\n",
            "38/38 [==============================] - 0s 9ms/step - loss: 3.0996e-04 - accuracy: 8.3403e-04\n",
            "Epoch 31/100\n",
            "38/38 [==============================] - 0s 9ms/step - loss: 3.3087e-04 - accuracy: 8.3403e-04\n",
            "Epoch 32/100\n",
            "38/38 [==============================] - 0s 9ms/step - loss: 3.1754e-04 - accuracy: 8.3403e-04\n",
            "Epoch 33/100\n",
            "38/38 [==============================] - 0s 9ms/step - loss: 3.0341e-04 - accuracy: 8.3403e-04\n",
            "Epoch 34/100\n",
            "38/38 [==============================] - 0s 9ms/step - loss: 3.2634e-04 - accuracy: 8.3403e-04\n",
            "Epoch 35/100\n",
            "38/38 [==============================] - 0s 9ms/step - loss: 2.9087e-04 - accuracy: 8.3403e-04\n",
            "Epoch 36/100\n",
            "38/38 [==============================] - 0s 9ms/step - loss: 3.1980e-04 - accuracy: 8.3403e-04\n",
            "Epoch 37/100\n",
            "38/38 [==============================] - 0s 9ms/step - loss: 2.8641e-04 - accuracy: 8.3403e-04\n",
            "Epoch 38/100\n",
            "38/38 [==============================] - 0s 10ms/step - loss: 3.0029e-04 - accuracy: 8.3403e-04\n",
            "Epoch 39/100\n",
            "38/38 [==============================] - 0s 9ms/step - loss: 2.8734e-04 - accuracy: 8.3403e-04\n",
            "Epoch 40/100\n",
            "38/38 [==============================] - 0s 9ms/step - loss: 3.0617e-04 - accuracy: 8.3403e-04\n",
            "Epoch 41/100\n",
            "38/38 [==============================] - 0s 9ms/step - loss: 2.7198e-04 - accuracy: 8.3403e-04\n",
            "Epoch 42/100\n",
            "38/38 [==============================] - 0s 9ms/step - loss: 2.8525e-04 - accuracy: 8.3403e-04\n",
            "Epoch 43/100\n",
            "38/38 [==============================] - 0s 9ms/step - loss: 2.8219e-04 - accuracy: 8.3403e-04\n",
            "Epoch 44/100\n",
            "38/38 [==============================] - 1s 15ms/step - loss: 2.5741e-04 - accuracy: 8.3403e-04\n",
            "Epoch 45/100\n",
            "38/38 [==============================] - 1s 14ms/step - loss: 2.8666e-04 - accuracy: 8.3403e-04\n",
            "Epoch 46/100\n",
            "38/38 [==============================] - 1s 15ms/step - loss: 2.7971e-04 - accuracy: 8.3403e-04\n",
            "Epoch 47/100\n",
            "38/38 [==============================] - 1s 15ms/step - loss: 2.7310e-04 - accuracy: 8.3403e-04\n",
            "Epoch 48/100\n",
            "38/38 [==============================] - 1s 14ms/step - loss: 2.7459e-04 - accuracy: 8.3403e-04\n",
            "Epoch 49/100\n",
            "38/38 [==============================] - 0s 9ms/step - loss: 2.6329e-04 - accuracy: 8.3403e-04\n",
            "Epoch 50/100\n",
            "38/38 [==============================] - 0s 9ms/step - loss: 2.7513e-04 - accuracy: 8.3403e-04\n",
            "Epoch 51/100\n",
            "38/38 [==============================] - 0s 9ms/step - loss: 2.5893e-04 - accuracy: 8.3403e-04\n",
            "Epoch 52/100\n",
            "38/38 [==============================] - 0s 9ms/step - loss: 2.6829e-04 - accuracy: 8.3403e-04\n",
            "Epoch 53/100\n",
            "38/38 [==============================] - 0s 10ms/step - loss: 2.5909e-04 - accuracy: 8.3403e-04\n",
            "Epoch 54/100\n",
            "38/38 [==============================] - 0s 9ms/step - loss: 2.6582e-04 - accuracy: 8.3403e-04\n",
            "Epoch 55/100\n",
            "38/38 [==============================] - 0s 9ms/step - loss: 2.5914e-04 - accuracy: 8.3403e-04\n",
            "Epoch 56/100\n",
            "38/38 [==============================] - 0s 10ms/step - loss: 2.6960e-04 - accuracy: 8.3403e-04\n",
            "Epoch 57/100\n",
            "38/38 [==============================] - 0s 9ms/step - loss: 2.4955e-04 - accuracy: 8.3403e-04\n",
            "Epoch 58/100\n",
            "38/38 [==============================] - 0s 9ms/step - loss: 2.6955e-04 - accuracy: 8.3403e-04\n",
            "Epoch 59/100\n",
            "38/38 [==============================] - 0s 9ms/step - loss: 2.5515e-04 - accuracy: 8.3403e-04\n",
            "Epoch 60/100\n",
            "38/38 [==============================] - 0s 9ms/step - loss: 2.5016e-04 - accuracy: 8.3403e-04\n",
            "Epoch 61/100\n",
            "38/38 [==============================] - 0s 9ms/step - loss: 2.6072e-04 - accuracy: 8.3403e-04\n",
            "Epoch 62/100\n",
            "38/38 [==============================] - 0s 9ms/step - loss: 2.6324e-04 - accuracy: 8.3403e-04\n",
            "Epoch 63/100\n",
            "38/38 [==============================] - 0s 9ms/step - loss: 2.5246e-04 - accuracy: 8.3403e-04\n",
            "Epoch 64/100\n",
            "38/38 [==============================] - 0s 9ms/step - loss: 2.7067e-04 - accuracy: 8.3403e-04\n",
            "Epoch 65/100\n",
            "38/38 [==============================] - 0s 10ms/step - loss: 2.4492e-04 - accuracy: 8.3403e-04\n",
            "Epoch 66/100\n",
            "38/38 [==============================] - 0s 9ms/step - loss: 2.4181e-04 - accuracy: 8.3403e-04\n",
            "Epoch 67/100\n",
            "38/38 [==============================] - 0s 9ms/step - loss: 2.4551e-04 - accuracy: 8.3403e-04\n",
            "Epoch 68/100\n",
            "38/38 [==============================] - 0s 9ms/step - loss: 2.5285e-04 - accuracy: 8.3403e-04\n",
            "Epoch 69/100\n",
            "38/38 [==============================] - 0s 9ms/step - loss: 2.2763e-04 - accuracy: 8.3403e-04\n",
            "Epoch 70/100\n",
            "38/38 [==============================] - 0s 9ms/step - loss: 2.4088e-04 - accuracy: 8.3403e-04\n",
            "Epoch 71/100\n",
            "38/38 [==============================] - 0s 9ms/step - loss: 2.3465e-04 - accuracy: 8.3403e-04\n",
            "Epoch 72/100\n",
            "38/38 [==============================] - 0s 9ms/step - loss: 2.3549e-04 - accuracy: 8.3403e-04\n",
            "Epoch 73/100\n",
            "38/38 [==============================] - 0s 9ms/step - loss: 2.4942e-04 - accuracy: 8.3403e-04\n",
            "Epoch 74/100\n",
            "38/38 [==============================] - 0s 9ms/step - loss: 2.5157e-04 - accuracy: 8.3403e-04\n",
            "Epoch 75/100\n",
            "38/38 [==============================] - 0s 9ms/step - loss: 2.2395e-04 - accuracy: 8.3403e-04\n",
            "Epoch 76/100\n",
            "38/38 [==============================] - 0s 11ms/step - loss: 2.4449e-04 - accuracy: 8.3403e-04\n",
            "Epoch 77/100\n",
            "38/38 [==============================] - 1s 15ms/step - loss: 2.4256e-04 - accuracy: 8.3403e-04\n",
            "Epoch 78/100\n",
            "38/38 [==============================] - 1s 14ms/step - loss: 2.5329e-04 - accuracy: 8.3403e-04\n",
            "Epoch 79/100\n",
            "38/38 [==============================] - 1s 15ms/step - loss: 2.4644e-04 - accuracy: 8.3403e-04\n",
            "Epoch 80/100\n",
            "38/38 [==============================] - 1s 15ms/step - loss: 2.4318e-04 - accuracy: 8.3403e-04\n",
            "Epoch 81/100\n",
            "38/38 [==============================] - 1s 13ms/step - loss: 2.3880e-04 - accuracy: 8.3403e-04\n",
            "Epoch 82/100\n",
            "38/38 [==============================] - 0s 9ms/step - loss: 2.4591e-04 - accuracy: 8.3403e-04\n",
            "Epoch 83/100\n",
            "38/38 [==============================] - 0s 9ms/step - loss: 2.3303e-04 - accuracy: 8.3403e-04\n",
            "Epoch 84/100\n",
            "38/38 [==============================] - 0s 9ms/step - loss: 2.3843e-04 - accuracy: 8.3403e-04\n",
            "Epoch 85/100\n",
            "38/38 [==============================] - 0s 10ms/step - loss: 2.2917e-04 - accuracy: 8.3403e-04\n",
            "Epoch 86/100\n",
            "38/38 [==============================] - 0s 9ms/step - loss: 2.3219e-04 - accuracy: 8.3403e-04\n",
            "Epoch 87/100\n",
            "38/38 [==============================] - 0s 9ms/step - loss: 2.4014e-04 - accuracy: 8.3403e-04\n",
            "Epoch 88/100\n",
            "38/38 [==============================] - 0s 9ms/step - loss: 2.3605e-04 - accuracy: 8.3403e-04\n",
            "Epoch 89/100\n",
            "38/38 [==============================] - 0s 9ms/step - loss: 2.2676e-04 - accuracy: 8.3403e-04\n",
            "Epoch 90/100\n",
            "38/38 [==============================] - 0s 10ms/step - loss: 2.3316e-04 - accuracy: 8.3403e-04\n",
            "Epoch 91/100\n",
            "38/38 [==============================] - 0s 9ms/step - loss: 2.3038e-04 - accuracy: 8.3403e-04\n",
            "Epoch 92/100\n",
            "38/38 [==============================] - 0s 9ms/step - loss: 2.2026e-04 - accuracy: 8.3403e-04\n",
            "Epoch 93/100\n",
            "38/38 [==============================] - 0s 10ms/step - loss: 2.1891e-04 - accuracy: 8.3403e-04\n",
            "Epoch 94/100\n",
            "38/38 [==============================] - 0s 9ms/step - loss: 2.3774e-04 - accuracy: 8.3403e-04\n",
            "Epoch 95/100\n",
            "38/38 [==============================] - 0s 9ms/step - loss: 2.2238e-04 - accuracy: 8.3403e-04\n",
            "Epoch 96/100\n",
            "38/38 [==============================] - 0s 10ms/step - loss: 2.2700e-04 - accuracy: 8.3403e-04\n",
            "Epoch 97/100\n",
            "38/38 [==============================] - 0s 9ms/step - loss: 2.3305e-04 - accuracy: 8.3403e-04\n",
            "Epoch 98/100\n",
            "38/38 [==============================] - 0s 10ms/step - loss: 2.2994e-04 - accuracy: 8.3403e-04\n",
            "Epoch 99/100\n",
            "38/38 [==============================] - 0s 9ms/step - loss: 2.1967e-04 - accuracy: 8.3403e-04\n",
            "Epoch 100/100\n",
            "38/38 [==============================] - 0s 9ms/step - loss: 2.3238e-04 - accuracy: 8.3403e-04\n"
          ]
        },
        {
          "output_type": "execute_result",
          "data": {
            "text/plain": [
              "<keras.src.callbacks.History at 0x7840ae1c2a10>"
            ]
          },
          "metadata": {},
          "execution_count": 17
        }
      ],
      "source": [
        "model.fit(X_train1,y_train,epochs=100, batch_size=32)"
      ]
    },
    {
      "cell_type": "code",
      "execution_count": 18,
      "metadata": {
        "id": "OJzVwjRmPqDb"
      },
      "outputs": [],
      "source": [
        "dataset_test = pd.read_csv('/content/testset.csv')"
      ]
    },
    {
      "cell_type": "code",
      "execution_count": 19,
      "metadata": {
        "id": "JPrrd1n-Px7o"
      },
      "outputs": [],
      "source": [
        "test_set = dataset_test.iloc[:,1:2].values"
      ]
    },
    {
      "cell_type": "code",
      "execution_count": 20,
      "metadata": {
        "id": "WQgU2aH0bHZy",
        "colab": {
          "base_uri": "https://localhost:8080/"
        },
        "outputId": "2f22729e-dd4d-45a8-d84c-6e8b85b5ab51"
      },
      "outputs": [
        {
          "output_type": "execute_result",
          "data": {
            "text/plain": [
              "(125, 1)"
            ]
          },
          "metadata": {},
          "execution_count": 20
        }
      ],
      "source": [
        "test_set.shape"
      ]
    },
    {
      "cell_type": "code",
      "execution_count": 21,
      "metadata": {
        "id": "jqBvI7uQa8dz"
      },
      "outputs": [],
      "source": [
        "dataset_total = pd.concat((dataset_train['Open'],dataset_test['Open']),axis=0)"
      ]
    },
    {
      "cell_type": "code",
      "execution_count": 22,
      "metadata": {
        "id": "V6w4Dq01QJXk"
      },
      "outputs": [],
      "source": [
        "inputs = dataset_total.values\n",
        "inputs = inputs.reshape(-1,1)\n",
        "inputs_scaled=sc.transform(inputs)\n",
        "X_test = []\n",
        "for i in range(60,1384):\n",
        "  X_test.append(inputs_scaled[i-60:i,0])\n",
        "X_test = np.array(X_test)\n",
        "X_test = np.reshape(X_test,(X_test.shape[0], X_test.shape[1],1))"
      ]
    },
    {
      "cell_type": "code",
      "execution_count": 23,
      "metadata": {
        "id": "zup_dSFXbqed",
        "colab": {
          "base_uri": "https://localhost:8080/"
        },
        "outputId": "1924a36c-9bd2-4111-d942-a7ee9d098316"
      },
      "outputs": [
        {
          "output_type": "execute_result",
          "data": {
            "text/plain": [
              "(1324, 60, 1)"
            ]
          },
          "metadata": {},
          "execution_count": 23
        }
      ],
      "source": [
        "X_test.shape"
      ]
    },
    {
      "cell_type": "code",
      "execution_count": 24,
      "metadata": {
        "id": "M02bWmdhRneT",
        "colab": {
          "base_uri": "https://localhost:8080/"
        },
        "outputId": "4e6d03a8-b8f3-46c3-ab36-e59f1dbf93c7"
      },
      "outputs": [
        {
          "output_type": "stream",
          "name": "stdout",
          "text": [
            "42/42 [==============================] - 1s 6ms/step\n"
          ]
        }
      ],
      "source": [
        "predicted_stock_price_scaled = model.predict(X_test)\n",
        "predicted_stock_price = sc.inverse_transform(predicted_stock_price_scaled)"
      ]
    },
    {
      "cell_type": "code",
      "execution_count": 25,
      "metadata": {
        "id": "60GZR-9ZR34C",
        "colab": {
          "base_uri": "https://localhost:8080/",
          "height": 489
        },
        "outputId": "a95a2e50-ac3f-4709-aa0a-09c0ee0c8967"
      },
      "outputs": [
        {
          "output_type": "stream",
          "name": "stdout",
          "text": [
            "Name: V.Dharshan          Register Number:212222230031     \n"
          ]
        },
        {
          "output_type": "display_data",
          "data": {
            "text/plain": [
              "<Figure size 640x480 with 1 Axes>"
            ],
            "image/png": "[encoded data removed]"
          },
          "metadata": {}
        }
      ],
      "source": [
        "print(\"Name: V.Dharshan          Register Number:212222230031     \")\n",
        "plt.plot(np.arange(0,1384),inputs, color='red', label = 'Test(Real) Google stock price')\n",
        "plt.plot(np.arange(60,1384),predicted_stock_price, color='blue', label = 'Predicted Google stock price')\n",
        "plt.title('Google Stock Price Prediction')\n",
        "plt.xlabel('Time')\n",
        "plt.ylabel('Google Stock Price')\n",
        "plt.legend()\n",
        "plt.show()"
      ]
    }
  ],
  "metadata": {
    "colab": {
      "provenance": []
    },
    "kernelspec": {
      "display_name": "Python 3",
      "name": "python3"
    },
    "language_info": {
      "name": "python"
    }
  },
  "nbformat": 4,
  "nbformat_minor": 0
}